{
  "cells": [
    {
      "cell_type": "markdown",
      "id": "9fb06c3a",
      "metadata": {
        "id": "9fb06c3a"
      },
      "source": [
        "## <center>RECOMMENDER SYSTEM</center>"
      ]
    },
    {
      "cell_type": "markdown",
      "id": "ca7c2ac9",
      "metadata": {
        "id": "ca7c2ac9"
      },
      "source": [
        "### Requirements (Libraries and Dataset)"
      ]
    },
    {
      "cell_type": "code",
      "execution_count": null,
      "id": "181f3b5a",
      "metadata": {
        "colab": {
          "base_uri": "https://localhost:8080/"
        },
        "id": "181f3b5a",
        "outputId": "d13a9670-bb5d-45ef-d0fd-3ff7577a301f"
      },
      "outputs": [
        {
          "output_type": "stream",
          "name": "stdout",
          "text": [
            "Mounted at /content/drive\n"
          ]
        }
      ],
      "source": [
        "import numpy as np\n",
        "import pandas as pd\n",
        "import difflib\n",
        "from sklearn.feature_extraction.text import TfidfVectorizer\n",
        "from sklearn.metrics.pairwise import linear_kernel, cosine_similarity\n",
        "from ast import literal_eval\n",
        "\n",
        "from google.colab import drive\n",
        "drive.mount('/content/drive')\n",
        "\n",
        "movies_data = pd.read_csv('/content/drive/MyDrive/Portfolio/1. Capstone Projects/Recommender System/movies.csv')"
      ]
    },
    {
      "cell_type": "markdown",
      "id": "4ed76ee2",
      "metadata": {
        "id": "4ed76ee2"
      },
      "source": [
        "## Method1: (Based on genre, production, direction, and cast)"
      ]
    },
    {
      "cell_type": "markdown",
      "id": "24556a85",
      "metadata": {
        "id": "24556a85"
      },
      "source": [
        "### Data Editing"
      ]
    },
    {
      "cell_type": "code",
      "execution_count": null,
      "id": "9c1b1c2d",
      "metadata": {
        "id": "9c1b1c2d"
      },
      "outputs": [],
      "source": [
        "movies_data['production_company'] = movies_data['production_companies'].fillna('[]').apply(literal_eval).apply(lambda x: [i['name'] for i in x] if isinstance(x,list) else [])\n",
        "movies_data['production_country'] = movies_data['production_countries'].fillna('[]').apply(literal_eval).apply(lambda x: [i['name'] for i in x] if isinstance(x,list) else [])\n",
        "movies_data['crews'] = movies_data['crew'].fillna('[]').apply(literal_eval).apply(lambda x: [i['name'] for i in x] if isinstance(x,list) else [])\n",
        "movies_data['production_company'] = movies_data['production_company'].apply(lambda x: ' '.join(map(str,x)))\n",
        "movies_data['production_country'] = movies_data['production_country'].apply(lambda x: ' '.join(map(str,x)))\n",
        "movies_data['crews'] = movies_data['crews'].apply(lambda x: ' '.join(map(str,x)))"
      ]
    },
    {
      "cell_type": "markdown",
      "id": "ef40ecd0",
      "metadata": {
        "id": "ef40ecd0"
      },
      "source": [
        "### Building the model"
      ]
    },
    {
      "cell_type": "code",
      "execution_count": null,
      "id": "4c1be699",
      "metadata": {
        "colab": {
          "base_uri": "https://localhost:8080/"
        },
        "id": "4c1be699",
        "outputId": "2ca4f2d3-38a9-43a9-add1-f75d42c0f268"
      },
      "outputs": [
        {
          "output_type": "stream",
          "name": "stdout",
          "text": [
            " Enter your favourite movie name : Superman\n",
            "Movies suggested for you : \n",
            "\n",
            "1 . Superman\n",
            "2 . Superman II\n",
            "3 . Superman III\n",
            "4 . Superman IV: The Quest for Peace\n",
            "5 . The Godfather\n",
            "6 . Ladyhawke\n",
            "7 . Conspiracy Theory\n",
            "8 . Man of Steel\n",
            "9 . Radio Flyer\n",
            "10 . Lethal Weapon 3\n",
            "11 . Superman Returns\n",
            "12 . The Godfather: Part II\n",
            "13 . Scrooged\n",
            "14 . Assassins\n",
            "15 . Lethal Weapon 4\n",
            "16 . The Omen\n",
            "17 . Crimson Tide\n",
            "18 . Batman\n",
            "19 . The Helix... Loaded\n",
            "20 . Batman: The Dark Knight Returns, Part 2\n",
            "21 . Dick Tracy\n",
            "22 . The Dark Knight\n",
            "23 . Teenage Mutant Ninja Turtles II: The Secret of the Ooze\n",
            "24 . Battlefield Earth\n",
            "25 . Bulworth\n",
            "26 . Batman Returns\n",
            "27 . Timeline\n",
            "28 . The Thief and the Cobbler\n",
            "29 . Suicide Squad\n",
            "30 . Batman v Superman: Dawn of Justice\n"
          ]
        }
      ],
      "source": [
        "# features selection\n",
        "selected_features = ['genres','keywords','tagline','cast','director','production_company','production_country','crews']\n",
        "\n",
        "# null value treatment\n",
        "for feature in selected_features:\n",
        "    movies_data[feature] = movies_data[feature].fillna('')\n",
        "\n",
        "# combining column values into sentence\n",
        "combined_features = movies_data['genres']+' '+movies_data['keywords']+' '+movies_data['tagline']+' '+movies_data['cast']+' '+movies_data['director']+' '+movies_data['production_company']+' '+movies_data['production_country']+' '+movies_data['crews']\n",
        "\n",
        "# building vector space model\n",
        "vectorizer = TfidfVectorizer()\n",
        "feature_vectors = vectorizer.fit_transform(combined_features)\n",
        "similarity = cosine_similarity(feature_vectors)\n",
        "\n",
        "# getting inputs\n",
        "movie_name = input(' Enter your favourite movie name : ')\n",
        "\n",
        "list_of_all_titles = movies_data['title'].tolist()\n",
        "\n",
        "# comparing input movies with list of available titles\n",
        "find_close_match = difflib.get_close_matches(movie_name, list_of_all_titles)\n",
        "\n",
        "close_match = find_close_match[0]\n",
        "\n",
        "index_of_the_movie = movies_data[movies_data.title == close_match]['index'].values[0]\n",
        "\n",
        "similarity_score = list(enumerate(similarity[index_of_the_movie]))\n",
        "\n",
        "sorted_similar_movies = sorted(similarity_score, key = lambda x:x[1], reverse = True)  \n",
        "\n",
        "print('Movies suggested for you : \\n')\n",
        "\n",
        "i = 1\n",
        "\n",
        "for movie in sorted_similar_movies:\n",
        "    index = movie[0]\n",
        "    title_from_index = movies_data[movies_data.index==index]['title'].values[0]\n",
        "    if (i<31):\n",
        "        print(i, '.',title_from_index)\n",
        "        i+=1"
      ]
    },
    {
      "cell_type": "markdown",
      "id": "d98485e2",
      "metadata": {
        "id": "d98485e2"
      },
      "source": [
        "-------------------------------------------------------------------------------"
      ]
    },
    {
      "cell_type": "markdown",
      "id": "d055891f",
      "metadata": {
        "id": "d055891f"
      },
      "source": [
        "## Method2: (Based on overview and tagline)"
      ]
    },
    {
      "cell_type": "markdown",
      "id": "452884da",
      "metadata": {
        "id": "452884da"
      },
      "source": [
        "### Data Editing"
      ]
    },
    {
      "cell_type": "code",
      "execution_count": null,
      "id": "90119904",
      "metadata": {
        "id": "90119904"
      },
      "outputs": [],
      "source": [
        "movies_data['tagline'] = movies_data['tagline'].fillna('')\n",
        "movies_data['description'] = movies_data['overview'] + movies_data['tagline']\n",
        "movies_data['description'] = movies_data['description'].fillna('')"
      ]
    },
    {
      "cell_type": "markdown",
      "id": "4ddb13e2",
      "metadata": {
        "id": "4ddb13e2"
      },
      "source": [
        "### Building the model"
      ]
    },
    {
      "cell_type": "code",
      "execution_count": null,
      "id": "f1f09503",
      "metadata": {
        "_cell_guid": "c880adf9-051b-40cd-8e95-cd8c4acabb17",
        "_uuid": "453bdc941ba5a1e86e17b0f106dc44040c0defdf",
        "colab": {
          "base_uri": "https://localhost:8080/"
        },
        "id": "f1f09503",
        "outputId": "e181fe3e-5449-49ae-b990-b7ed80526684"
      },
      "outputs": [
        {
          "name": "stdout",
          "output_type": "stream",
          "text": [
            "Superman\n"
          ]
        },
        {
          "output_type": "execute_result",
          "data": {
            "text/plain": [
              "2433    Superman IV: The Quest for Peace\n",
              "870                          Superman II\n",
              "10                      Superman Returns\n",
              "14                          Man of Steel\n",
              "30                          Spider-Man 2\n",
              "3542                                R100\n",
              "914                 Central Intelligence\n",
              "4659                          Horse Camp\n",
              "1368                      Identity Thief\n",
              "4664                             Bronson\n",
              "2218                      Death Sentence\n",
              "916                         Daddy's Home\n",
              "5                           Spider-Man 3\n",
              "1296                        Superman III\n",
              "1237                  The Out-of-Towners\n",
              "303                             Catwoman\n",
              "819                           Date Night\n",
              "3109                              Edmond\n",
              "45                           World War Z\n",
              "413       Nutty Professor II: The Klumps\n",
              "2527         National Lampoon's Vacation\n",
              "2015                          Spaceballs\n",
              "788                             Deadpool\n",
              "477                        Thirteen Days\n",
              "1777                Paul Blart: Mall Cop\n",
              "1308                              Enough\n",
              "1420       Nanny McPhee and the Big Bang\n",
              "543                           Monkeybone\n",
              "4021                          Brick Lane\n",
              "2687                  My Boss's Daughter\n",
              "Name: title, dtype: object"
            ]
          },
          "metadata": {},
          "execution_count": 5
        }
      ],
      "source": [
        "# vector modeling\n",
        "tf = TfidfVectorizer(analyzer='word',ngram_range=(1, 2),min_df=0, stop_words='english')\n",
        "tfidf_matrix = tf.fit_transform(movies_data['description'])\n",
        "\n",
        "# finding similarity index (single movie to all movies)\n",
        "cosine_sim = linear_kernel(tfidf_matrix, tfidf_matrix)\n",
        "\n",
        "titles = movies_data['title']\n",
        "indices = pd.Series(movies_data.index, index=movies_data['title'])\n",
        "\n",
        "def get_recommendations(title):\n",
        "    idx = indices[title]\n",
        "    sim_scores = list(enumerate(cosine_sim[idx]))\n",
        "    sim_scores = sorted(sim_scores, key=lambda x: x[1], reverse=True)\n",
        "    sim_scores = sim_scores[1:31]\n",
        "    movie_indices = [i[0] for i in sim_scores]\n",
        "    return titles.iloc[movie_indices]\n",
        "\n",
        "get_title = str(input())\n",
        "get_recommendations(get_title)"
      ]
    },
    {
      "cell_type": "markdown",
      "id": "10048a18",
      "metadata": {
        "id": "10048a18"
      },
      "source": [
        "## Method 3 (Based on Overview only)"
      ]
    },
    {
      "cell_type": "code",
      "execution_count": null,
      "id": "6b819067",
      "metadata": {
        "colab": {
          "base_uri": "https://localhost:8080/"
        },
        "id": "6b819067",
        "outputId": "974474d0-84a5-446e-d62b-f5b9621479b3"
      },
      "outputs": [
        {
          "output_type": "stream",
          "name": "stdout",
          "text": [
            "Superman\n",
            "870                          Superman II\n",
            "10                      Superman Returns\n",
            "2433    Superman IV: The Quest for Peace\n",
            "914                 Central Intelligence\n",
            "4659                          Horse Camp\n",
            "2527         National Lampoon's Vacation\n",
            "3542                                R100\n",
            "45                           World War Z\n",
            "1368                      Identity Thief\n",
            "1237                  The Out-of-Towners\n",
            "30                          Spider-Man 2\n",
            "3958                             Demonic\n",
            "2218                      Death Sentence\n",
            "4664                             Bronson\n",
            "770                        Event Horizon\n",
            "916                         Daddy's Home\n",
            "4021                          Brick Lane\n",
            "5                           Spider-Man 3\n",
            "819                           Date Night\n",
            "1296                        Superman III\n",
            "303                             Catwoman\n",
            "2015                          Spaceballs\n",
            "1518                                  디워\n",
            "413       Nutty Professor II: The Klumps\n",
            "3109                              Edmond\n",
            "2174                   Under the Rainbow\n",
            "2258                            Steamboy\n",
            "1919                     Un Plan parfait\n",
            "3292                   Wuthering Heights\n",
            "3981                 Griff the Invisible\n",
            "Name: original_title, dtype: object\n"
          ]
        }
      ],
      "source": [
        "# data set\n",
        "movies_data = pd.read_csv('/content/drive/MyDrive/Portfolio/1. Capstone Projects/Recommender System/movies.csv')\n",
        "\n",
        "# null value treatment\n",
        "movies_data['overview'] = movies_data['overview'].fillna(\"\")\n",
        "\n",
        "## Model building\n",
        "# removing stop words such as is,the,are from the overview\n",
        "tfidf = TfidfVectorizer(stop_words=\"english\")\n",
        "\n",
        "# building vector space model\n",
        "tfidf_matrix = tfidf.fit_transform(movies_data['overview'])\n",
        "\n",
        "# developing cosine similarity linear kernal\n",
        "from sklearn.metrics.pairwise import linear_kernel\n",
        "cosine_sim = linear_kernel(tfidf_matrix, tfidf_matrix)\n",
        "\n",
        "# developing indices as per the title\n",
        "indices = pd.Series(movies_data.index, index=movies_data['original_title']).drop_duplicates()\n",
        "\n",
        "# final function\n",
        "def get_recommendation(title, cosine_sim = cosine_sim):\n",
        "    idx = indices[title]\n",
        "    sim_scores = enumerate(cosine_sim[idx])\n",
        "    sim_scores = sorted(sim_scores, key=lambda x: x[1], reverse=True)\n",
        "    sim_scores = sim_scores[1:31]\n",
        "    sim_index = [i[0] for i in sim_scores]\n",
        "    print(movies_data[\"original_title\"].iloc[sim_index])\n",
        "    \n",
        "get_title = str(input())\n",
        "get_recommendation(get_title)"
      ]
    },
    {
      "cell_type": "markdown",
      "id": "e68b0e89",
      "metadata": {
        "id": "e68b0e89"
      },
      "source": [
        "---------------------------------------------------------------------------------------------------"
      ]
    },
    {
      "cell_type": "markdown",
      "source": [
        "### <font color=\"green\">Overall, if i have to rank the performance of model(Methods) as per the result, Method 1 > Method 3 > Method 2. Hence, Method 1 based model performed the best </font>"
      ],
      "metadata": {
        "id": "EGIDPqHb_Rwb"
      },
      "id": "EGIDPqHb_Rwb"
    }
  ],
  "metadata": {
    "kernelspec": {
      "display_name": "Python 3",
      "language": "python",
      "name": "python3"
    },
    "language_info": {
      "codemirror_mode": {
        "name": "ipython",
        "version": 3
      },
      "file_extension": ".py",
      "mimetype": "text/x-python",
      "name": "python",
      "nbconvert_exporter": "python",
      "pygments_lexer": "ipython3",
      "version": "3.8.8"
    },
    "colab": {
      "provenance": []
    }
  },
  "nbformat": 4,
  "nbformat_minor": 5
}
