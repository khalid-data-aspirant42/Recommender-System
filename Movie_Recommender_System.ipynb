{
  "cells": [
    {
      "cell_type": "markdown",
      "id": "9fb06c3a",
      "metadata": {
        "id": "9fb06c3a"
      },
      "source": [
        "### <center>RECOMMENDER SYSTEM</center>"
      ]
    },
    {
      "cell_type": "markdown",
      "id": "4e933946",
      "metadata": {
        "id": "4e933946"
      },
      "source": [
        "### Data Editing"
      ]
    },
    {
      "cell_type": "code",
      "execution_count": 1,
      "id": "181f3b5a",
      "metadata": {
        "colab": {
          "base_uri": "https://localhost:8080/"
        },
        "id": "181f3b5a",
        "outputId": "e516703c-1288-4007-f6af-7fa28c9e919f"
      },
      "outputs": [
        {
          "output_type": "stream",
          "name": "stdout",
          "text": [
            "Mounted at /content/drive\n"
          ]
        }
      ],
      "source": [
        "import numpy as np\n",
        "import pandas as pd\n",
        "pd.set_option('display.max_columns', None)\n",
        "import difflib\n",
        "from sklearn.feature_extraction.text import TfidfVectorizer\n",
        "from sklearn.metrics.pairwise import cosine_similarity\n",
        "from ast import literal_eval\n",
        "\n",
        "from google.colab import drive\n",
        "drive.mount('/content/drive')\n",
        "\n",
        "movies_data = pd.read_csv('/content/drive/MyDrive/Portfolio/1. Capstone Projects/Recommender System/movies.csv')\n",
        "\n",
        "movies_data['production_company'] = movies_data['production_companies'].fillna('[]').apply(literal_eval).apply(lambda x: [i['name'] for i in x] if isinstance(x,list) else [])\n",
        "movies_data['production_country'] = movies_data['production_countries'].fillna('[]').apply(literal_eval).apply(lambda x: [i['name'] for i in x] if isinstance(x,list) else [])\n",
        "movies_data['crews'] = movies_data['crew'].fillna('[]').apply(literal_eval).apply(lambda x: [i['name'] for i in x] if isinstance(x,list) else [])\n",
        "movies_data['production_company'] = movies_data['production_company'].apply(lambda x: ' '.join(map(str,x)))\n",
        "movies_data['production_country'] = movies_data['production_country'].apply(lambda x: ' '.join(map(str,x)))\n",
        "movies_data['crews'] = movies_data['crews'].apply(lambda x: ' '.join(map(str,x)))\n"
      ]
    },
    {
      "cell_type": "markdown",
      "id": "4ed76ee2",
      "metadata": {
        "id": "4ed76ee2"
      },
      "source": [
        "## Method1:"
      ]
    },
    {
      "cell_type": "code",
      "execution_count": 2,
      "id": "4c1be699",
      "metadata": {
        "colab": {
          "base_uri": "https://localhost:8080/"
        },
        "id": "4c1be699",
        "outputId": "83a8cc6a-98a2-4fc8-9bc8-e4f44687ddbf"
      },
      "outputs": [
        {
          "output_type": "stream",
          "name": "stdout",
          "text": [
            " Enter your favourite movie name : Forrest Gump\n",
            "Movies suggested for you : \n",
            "\n",
            "1 . Forrest Gump\n",
            "2 . Contact\n",
            "3 . What Lies Beneath\n",
            "4 . The Polar Express\n",
            "5 . Beowulf\n",
            "6 . Cast Away\n",
            "7 . Back to the Future Part III\n",
            "8 . Back to the Future Part II\n",
            "9 . Flight\n",
            "10 . Death Becomes Her\n",
            "11 . The Walk\n",
            "12 . 15 Minutes\n",
            "13 . Road to Perdition\n",
            "14 . The Faculty\n",
            "15 . A Christmas Carol\n",
            "16 . Toy Story\n",
            "17 . War of the Worlds\n",
            "18 . Back to the Future\n",
            "19 . House on Haunted Hill\n",
            "20 . Jay and Silent Bob Strike Back\n",
            "21 . The Alamo\n",
            "22 . Terminator 2: Judgment Day\n",
            "23 . Big Fish\n",
            "24 . Independence Day\n",
            "25 . Meet Joe Black\n",
            "26 . A.I. Artificial Intelligence\n",
            "27 . Eraser\n",
            "28 . The Wolf of Wall Street\n",
            "29 . Armageddon\n",
            "30 . The Sixth Sense\n"
          ]
        }
      ],
      "source": [
        "selected_features = ['genres','keywords','tagline','cast','director','production_company','production_country','crews']\n",
        "\n",
        "for feature in selected_features:\n",
        "    movies_data[feature] = movies_data[feature].fillna('')\n",
        "\n",
        "combined_features = movies_data['genres']+' '+movies_data['keywords']+' '+movies_data['tagline']+' '+movies_data['cast']+' '+movies_data['director']+' '+movies_data['production_company']+' '+movies_data['production_country']+' '+movies_data['crews']\n",
        "\n",
        "\n",
        "vectorizer = TfidfVectorizer()\n",
        "feature_vectors = vectorizer.fit_transform(combined_features)\n",
        "\n",
        "similarity = cosine_similarity(feature_vectors)\n",
        "\n",
        "movie_name = input(' Enter your favourite movie name : ')\n",
        "\n",
        "list_of_all_titles = movies_data['title'].tolist()\n",
        "\n",
        "find_close_match = difflib.get_close_matches(movie_name, list_of_all_titles)\n",
        "\n",
        "close_match = find_close_match[0]\n",
        "\n",
        "index_of_the_movie = movies_data[movies_data.title == close_match]['index'].values[0]\n",
        "\n",
        "similarity_score = list(enumerate(similarity[index_of_the_movie]))\n",
        "\n",
        "sorted_similar_movies = sorted(similarity_score, key = lambda x:x[1], reverse = True)  \n",
        "\n",
        "print('Movies suggested for you : \\n')\n",
        "\n",
        "i = 1\n",
        "\n",
        "for movie in sorted_similar_movies:\n",
        "    index = movie[0]\n",
        "    title_from_index = movies_data[movies_data.index==index]['title'].values[0]\n",
        "    if (i<31):\n",
        "        print(i, '.',title_from_index)\n",
        "        i+=1\n",
        "\n"
      ]
    },
    {
      "cell_type": "markdown",
      "id": "d98485e2",
      "metadata": {
        "id": "d98485e2"
      },
      "source": [
        "-------------------------------------------------------------------------------"
      ]
    },
    {
      "cell_type": "markdown",
      "id": "d055891f",
      "metadata": {
        "id": "d055891f"
      },
      "source": [
        "## Method2:"
      ]
    },
    {
      "cell_type": "code",
      "execution_count": 3,
      "id": "f1f09503",
      "metadata": {
        "_cell_guid": "c880adf9-051b-40cd-8e95-cd8c4acabb17",
        "_uuid": "453bdc941ba5a1e86e17b0f106dc44040c0defdf",
        "id": "f1f09503"
      },
      "outputs": [],
      "source": [
        "movies_data['tagline'] = movies_data['tagline'].fillna('')\n",
        "movies_data['description'] = movies_data['overview'] + movies_data['tagline']\n",
        "movies_data['description'] = movies_data['description'].fillna('')"
      ]
    },
    {
      "cell_type": "code",
      "execution_count": 4,
      "id": "ae2de897",
      "metadata": {
        "_cell_guid": "6b385623-a978-43c4-b66a-813d5e9c6790",
        "_uuid": "f9d99726d9f2667fa6fc15ce5c5e31d36a970828",
        "id": "ae2de897"
      },
      "outputs": [],
      "source": [
        "tf = TfidfVectorizer(analyzer='word',ngram_range=(1, 2),min_df=0, stop_words='english')\n",
        "tfidf_matrix = tf.fit_transform(movies_data['description'])"
      ]
    },
    {
      "cell_type": "code",
      "execution_count": 5,
      "id": "d9e2d564",
      "metadata": {
        "_cell_guid": "5e18427c-2ef8-4a98-84e2-323a4af72ade",
        "_uuid": "6c21cc05d3c13ea637028f2e5836c719986e47c7",
        "colab": {
          "base_uri": "https://localhost:8080/"
        },
        "id": "d9e2d564",
        "outputId": "00afac79-7661-4107-b34f-98d11acc3715"
      },
      "outputs": [
        {
          "output_type": "execute_result",
          "data": {
            "text/plain": [
              "(4803, 149317)"
            ]
          },
          "metadata": {},
          "execution_count": 5
        }
      ],
      "source": [
        "tfidf_matrix.shape"
      ]
    },
    {
      "cell_type": "code",
      "execution_count": 6,
      "id": "26071ee9",
      "metadata": {
        "_cell_guid": "8b27b34f-a585-42bf-b35f-1de4e9181fce",
        "_uuid": "e324c0e951287359f7810a3da85631ebc7725c53",
        "id": "26071ee9"
      },
      "outputs": [],
      "source": [
        "from sklearn.metrics.pairwise import linear_kernel, cosine_similarity\n",
        "cosine_sim = linear_kernel(tfidf_matrix, tfidf_matrix)"
      ]
    },
    {
      "cell_type": "code",
      "execution_count": 7,
      "id": "e0572843",
      "metadata": {
        "_cell_guid": "148a994f-3e7f-4350-9ea3-41eb95f106e8",
        "_uuid": "ebb6823a9dce997d965dc89049a06512cbfb17af",
        "colab": {
          "base_uri": "https://localhost:8080/"
        },
        "id": "e0572843",
        "outputId": "e818e425-b4e8-4d78-9aae-57e6c86f05d2"
      },
      "outputs": [
        {
          "output_type": "execute_result",
          "data": {
            "text/plain": [
              "array([1.        , 0.00449945, 0.        , ..., 0.00272894, 0.        ,\n",
              "       0.        ])"
            ]
          },
          "metadata": {},
          "execution_count": 7
        }
      ],
      "source": [
        "cosine_sim[0]"
      ]
    },
    {
      "cell_type": "code",
      "execution_count": 8,
      "id": "55918a1b",
      "metadata": {
        "_cell_guid": "446d22fd-e7c1-42a6-851b-593f60175ce0",
        "_uuid": "ff016d61895e99fe7b0495c51b86917bdbe2712d",
        "id": "55918a1b"
      },
      "outputs": [],
      "source": [
        "titles = movies_data['title']\n",
        "indices = pd.Series(movies_data.index, index=movies_data['title'])"
      ]
    },
    {
      "cell_type": "code",
      "execution_count": 9,
      "id": "c818a0a9",
      "metadata": {
        "colab": {
          "base_uri": "https://localhost:8080/"
        },
        "id": "c818a0a9",
        "outputId": "69de8904-364a-436c-9dc6-892d6c91c61d"
      },
      "outputs": [
        {
          "output_type": "execute_result",
          "data": {
            "text/plain": [
              "title\n",
              "Avatar                                         0\n",
              "Pirates of the Caribbean: At World's End       1\n",
              "Spectre                                        2\n",
              "The Dark Knight Rises                          3\n",
              "John Carter                                    4\n",
              "                                            ... \n",
              "El Mariachi                                 4798\n",
              "Newlyweds                                   4799\n",
              "Signed, Sealed, Delivered                   4800\n",
              "Shanghai Calling                            4801\n",
              "My Date with Drew                           4802\n",
              "Length: 4803, dtype: int64"
            ]
          },
          "metadata": {},
          "execution_count": 9
        }
      ],
      "source": [
        "indices"
      ]
    },
    {
      "cell_type": "code",
      "execution_count": 10,
      "id": "61fe7286",
      "metadata": {
        "id": "61fe7286"
      },
      "outputs": [],
      "source": [
        "def get_recommendations(title):\n",
        "    idx = indices[title]\n",
        "    sim_scores = list(enumerate(cosine_sim[idx]))\n",
        "    sim_scores = sorted(sim_scores, key=lambda x: x[1], reverse=True)\n",
        "    sim_scores = sim_scores[1:31]\n",
        "    movie_indices = [i[0] for i in sim_scores]\n",
        "    return titles.iloc[movie_indices]"
      ]
    },
    {
      "cell_type": "code",
      "execution_count": 13,
      "id": "3e89483b",
      "metadata": {
        "colab": {
          "base_uri": "https://localhost:8080/"
        },
        "id": "3e89483b",
        "outputId": "e8e4a200-51ba-4094-d9db-752159c6e9af"
      },
      "outputs": [
        {
          "output_type": "execute_result",
          "data": {
            "text/plain": [
              "2686                    An American Haunting\n",
              "124                                   Frozen\n",
              "1714                             Serendipity\n",
              "1495                              Phenomenon\n",
              "3866                             City of God\n",
              "4603                            My Dog Tulip\n",
              "4228             The Ballad of Jack and Rose\n",
              "1559                            The Notebook\n",
              "1259             Memoirs of an Invisible Man\n",
              "620                              The Insider\n",
              "4287                                 Niagara\n",
              "2260                         All Good Things\n",
              "2971                               Housefull\n",
              "776                            Winter's Tale\n",
              "2797                  Lars and the Real Girl\n",
              "4021                              Brick Lane\n",
              "719                               This Is It\n",
              "4791                             Tin Can Man\n",
              "2760                                    Room\n",
              "1957                      Dangerous Liaisons\n",
              "2757                   Letters from Iwo Jima\n",
              "835                    Mr. Popper's Penguins\n",
              "2904                      Heaven is for Real\n",
              "1871                      Mr. Bean's Holiday\n",
              "1098             Love in the Time of Cholera\n",
              "3374                              Veer-Zaara\n",
              "2427    The Adventures of Elmo in Grouchland\n",
              "4641             I Married a Strange Person!\n",
              "3019                A Prairie Home Companion\n",
              "1239                           The Musketeer\n",
              "Name: title, dtype: object"
            ]
          },
          "metadata": {},
          "execution_count": 13
        }
      ],
      "source": [
        "get_recommendations('Forrest Gump').head(30)"
      ]
    },
    {
      "cell_type": "code",
      "execution_count": 14,
      "id": "0b962006",
      "metadata": {
        "colab": {
          "base_uri": "https://localhost:8080/"
        },
        "id": "0b962006",
        "outputId": "b24225e2-abb2-41d7-c05e-b1907bcce8de"
      },
      "outputs": [
        {
          "output_type": "execute_result",
          "data": {
            "text/plain": [
              "3                         The Dark Knight Rises\n",
              "299                              Batman Forever\n",
              "428                              Batman Returns\n",
              "3854    Batman: The Dark Knight Returns, Part 2\n",
              "1359                                     Batman\n",
              "2507                                  Slow Burn\n",
              "1181                                        JFK\n",
              "119                               Batman Begins\n",
              "879                         Law Abiding Citizen\n",
              "205          Sherlock Holmes: A Game of Shadows\n",
              "9            Batman v Superman: Dawn of Justice\n",
              "2193                       Secret in Their Eyes\n",
              "210                              Batman & Robin\n",
              "2020                                 The Rookie\n",
              "58                                  Rush Hour 3\n",
              "2207                                  12 Rounds\n",
              "4135            Gangster's Paradise: Jerusalema\n",
              "2692                                    Thinner\n",
              "3725                                The Sweeney\n",
              "506                             Despicable Me 2\n",
              "2464                     The Master of Disguise\n",
              "2987                           The Mighty Ducks\n",
              "1202                               Legal Eagles\n",
              "1440                     Flight of the Intruder\n",
              "1282                          The Hunting Party\n",
              "1478                             A Few Good Men\n",
              "1084                            The Glimmer Man\n",
              "3943                                  Compadres\n",
              "817                            American Wedding\n",
              "1253                              Kiss of Death\n",
              "Name: title, dtype: object"
            ]
          },
          "metadata": {},
          "execution_count": 14
        }
      ],
      "source": [
        "get_recommendations('The Dark Knight').head(30)"
      ]
    },
    {
      "cell_type": "markdown",
      "id": "874c542e",
      "metadata": {
        "id": "874c542e"
      },
      "source": [
        "# Conclusion 1:"
      ]
    },
    {
      "cell_type": "markdown",
      "id": "f527cd08",
      "metadata": {
        "id": "f527cd08"
      },
      "source": [
        "#### So far, method 1 is recommending expected movies."
      ]
    },
    {
      "cell_type": "code",
      "execution_count": null,
      "id": "e3d11643",
      "metadata": {
        "id": "e3d11643"
      },
      "outputs": [],
      "source": []
    }
  ],
  "metadata": {
    "kernelspec": {
      "display_name": "Python 3",
      "language": "python",
      "name": "python3"
    },
    "language_info": {
      "codemirror_mode": {
        "name": "ipython",
        "version": 3
      },
      "file_extension": ".py",
      "mimetype": "text/x-python",
      "name": "python",
      "nbconvert_exporter": "python",
      "pygments_lexer": "ipython3",
      "version": "3.8.8"
    },
    "colab": {
      "provenance": []
    }
  },
  "nbformat": 4,
  "nbformat_minor": 5
}